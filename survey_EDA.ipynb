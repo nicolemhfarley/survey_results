{
 "cells": [
  {
   "cell_type": "code",
   "execution_count": null,
   "metadata": {},
   "outputs": [],
   "source": [
    "import pandas as pd\n",
    "import numpy as np\n",
    "import matplotlib.pyplot as plt\n",
    "%matplotlib inline\n",
    "import seaborn as sns"
   ]
  },
  {
   "cell_type": "code",
   "execution_count": null,
   "metadata": {},
   "outputs": [],
   "source": [
    "survey = pd.read_excel('Survey_Data_Coded.xlsx', header=0)"
   ]
  },
  {
   "cell_type": "code",
   "execution_count": null,
   "metadata": {},
   "outputs": [],
   "source": [
    "survey.head().T"
   ]
  },
  {
   "cell_type": "code",
   "execution_count": null,
   "metadata": {},
   "outputs": [],
   "source": [
    "questions = survey.iloc[[0]]"
   ]
  },
  {
   "cell_type": "code",
   "execution_count": null,
   "metadata": {},
   "outputs": [],
   "source": [
    "questions"
   ]
  },
  {
   "cell_type": "code",
   "execution_count": null,
   "metadata": {
    "scrolled": true
   },
   "outputs": [],
   "source": [
    "survey.info()"
   ]
  },
  {
   "cell_type": "code",
   "execution_count": null,
   "metadata": {},
   "outputs": [],
   "source": [
    "survey.shape"
   ]
  },
  {
   "cell_type": "code",
   "execution_count": null,
   "metadata": {},
   "outputs": [],
   "source": [
    "twenty_four = np.arange(0,24)"
   ]
  },
  {
   "cell_type": "code",
   "execution_count": null,
   "metadata": {},
   "outputs": [],
   "source": [
    "twenty_four"
   ]
  },
  {
   "cell_type": "code",
   "execution_count": null,
   "metadata": {},
   "outputs": [],
   "source": [
    "# reset columns to integers\n",
    "survey.columns = twenty_four"
   ]
  },
  {
   "cell_type": "code",
   "execution_count": null,
   "metadata": {},
   "outputs": [],
   "source": [
    "survey.columns"
   ]
  },
  {
   "cell_type": "code",
   "execution_count": null,
   "metadata": {},
   "outputs": [],
   "source": [
    "survey.head().T"
   ]
  },
  {
   "cell_type": "code",
   "execution_count": null,
   "metadata": {},
   "outputs": [],
   "source": [
    "# reset index to integers\n",
    "survey.reset_index(inplace=True)"
   ]
  },
  {
   "cell_type": "code",
   "execution_count": null,
   "metadata": {},
   "outputs": [],
   "source": [
    "survey.index"
   ]
  },
  {
   "cell_type": "code",
   "execution_count": null,
   "metadata": {},
   "outputs": [],
   "source": [
    "type(survey.columns)"
   ]
  },
  {
   "cell_type": "code",
   "execution_count": null,
   "metadata": {},
   "outputs": [],
   "source": [
    "survey[[8, 12, 16, 20]] = survey[[8, 12, 16, 20]].apply(pd.to_numeric, errors='coerce')"
   ]
  },
  {
   "cell_type": "code",
   "execution_count": null,
   "metadata": {},
   "outputs": [],
   "source": [
    "survey.info()"
   ]
  },
  {
   "cell_type": "code",
   "execution_count": null,
   "metadata": {},
   "outputs": [],
   "source": [
    "pd.value_counts(survey[8]), pd.value_counts(survey[12]), pd.value_counts(survey[16]), pd.value_counts(survey[20])"
   ]
  },
  {
   "cell_type": "code",
   "execution_count": null,
   "metadata": {},
   "outputs": [],
   "source": [
    "type(questions)\n",
    "questions.columns\n",
    "questions.loc[:,'Unnamed: 8']"
   ]
  },
  {
   "cell_type": "code",
   "execution_count": null,
   "metadata": {},
   "outputs": [],
   "source": [
    "score_order = [5, 4, 3, 2, 1]\n",
    "fig, ax8 = plt.subplots(figsize=(10,10))\n",
    "\n",
    "ax8 = survey[8].value_counts().sort_index(axis=0, ascending=False).plot(kind='barh')\n",
    "ax8.set_yticklabels(score_order, fontsize=14)\n",
    "ax8.set_ylabel('Score', fontsize=16)\n",
    "ax8.set_xlabel('Number of Responses', fontsize=16)\n",
    "ax8.set_title('Emotion Towards Pads', fontsize=20)\n",
    "plt.show()\n",
    "fig.savefig('pads.png')"
   ]
  },
  {
   "cell_type": "code",
   "execution_count": null,
   "metadata": {},
   "outputs": [],
   "source": [
    "fig, ax12 = plt.subplots(figsize=(10,10))\n",
    "ax12 = survey[12].value_counts().sort_index(axis=0, ascending=False).plot(kind='barh')\n",
    "score_order = [5, 4, 3, 2, 1]\n",
    "ax12.set_yticklabels(score_order, fontsize=14)\n",
    "ax12.set_title('Emotion Towards Tampons', fontsize=20)\n",
    "ax12.set_xlabel('Number of Responses', fontsize=16)\n",
    "ax12.set_ylabel('Score', fontsize=16)\n",
    "plt.show()\n",
    "fig.savefig('tampons.png')"
   ]
  },
  {
   "cell_type": "code",
   "execution_count": null,
   "metadata": {},
   "outputs": [],
   "source": [
    "fig, ax16 = plt.subplots(figsize=(10,10))\n",
    "ax16 = survey[16].value_counts().sort_index(axis=0, ascending=False).plot(kind='bar')\n",
    "score_order = [5, 4, 3, 2, 1]\n",
    "ax16.set_yticklabels(score_order, fontsize=14)\n",
    "ax16.set_title('Emotion Towards Menstrual Cups', fontsize=20)\n",
    "ax16.set_xlabel('Number of Responses', fontsize=16)\n",
    "ax16.set_ylabel('Score', fontsize=16)\n",
    "plt.show()\n",
    "fig.savefig('menstrual_Cups.png')"
   ]
  },
  {
   "cell_type": "code",
   "execution_count": null,
   "metadata": {},
   "outputs": [],
   "source": [
    "fig, ax20 = plt.subplots(figsize=(10,10))\n",
    "ax20 = survey[20].value_counts().sort_index(axis=0, ascending=False).plot(kind='bar')\n",
    "score_order = [5, 4, 3, 2, 1]\n",
    "ax20.set_yticklabels(score_order, fontsize=14)\n",
    "ax20.set_title('Emotion Towards Reuseable Pads/Period Underwear', fontsize=20)\n",
    "ax20.set_xlabel('Number of Responses', fontsize=16)\n",
    "ax20.set_ylabel('Score', fontsize=16)\n",
    "plt.show()\n",
    "fig.savefig('reusable_pads_period_underwear.png')"
   ]
  },
  {
   "cell_type": "code",
   "execution_count": null,
   "metadata": {},
   "outputs": [],
   "source": [
    "survey[[8, 12, 16, 20]].describe()"
   ]
  },
  {
   "cell_type": "code",
   "execution_count": null,
   "metadata": {},
   "outputs": [],
   "source": [
    "# remove row containing questions\n",
    "survey.drop(0, axis=0, inplace=True)"
   ]
  },
  {
   "cell_type": "code",
   "execution_count": null,
   "metadata": {},
   "outputs": [],
   "source": [
    "survey.head().T"
   ]
  },
  {
   "cell_type": "code",
   "execution_count": null,
   "metadata": {},
   "outputs": [],
   "source": [
    "survey[6].value_counts()"
   ]
  },
  {
   "cell_type": "code",
   "execution_count": null,
   "metadata": {},
   "outputs": [],
   "source": []
  }
 ],
 "metadata": {
  "kernelspec": {
   "display_name": "Python 3",
   "language": "python",
   "name": "python3"
  },
  "language_info": {
   "codemirror_mode": {
    "name": "ipython",
    "version": 3
   },
   "file_extension": ".py",
   "mimetype": "text/x-python",
   "name": "python",
   "nbconvert_exporter": "python",
   "pygments_lexer": "ipython3",
   "version": "3.6.5"
  }
 },
 "nbformat": 4,
 "nbformat_minor": 2
}
